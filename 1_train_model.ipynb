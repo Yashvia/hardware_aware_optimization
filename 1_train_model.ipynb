{
  "nbformat": 4,
  "nbformat_minor": 0,
  "metadata": {
    "colab": {
      "provenance": [],
      "gpuType": "T4"
    },
    "kernelspec": {
      "name": "python3",
      "display_name": "Python 3"
    },
    "language_info": {
      "name": "python"
    },
    "accelerator": "GPU"
  },
  "cells": [
    {
      "cell_type": "markdown",
      "source": [
        "# 1️⃣ Train CNN on CIFAR-10 (PyTorch)\n",
        "\n",
        "This notebook trains a lightweight CNN for CIFAR-10 and saves it as `base_model.pt`."
      ],
      "metadata": {
        "id": "jaqCIIlBXNrK"
      }
    },
    {
      "cell_type": "code",
      "execution_count": null,
      "metadata": {
        "colab": {
          "base_uri": "https://localhost:8080/"
        },
        "id": "SCsaLnxdXNMJ",
        "outputId": "945ac92c-5aec-4c9d-ca59-0032b385d08e"
      },
      "outputs": [
        {
          "output_type": "stream",
          "name": "stdout",
          "text": [
            "Mounted at /content/drive\n",
            "Project folders created!\n"
          ]
        }
      ],
      "source": [
        "from google.colab import drive\n",
        "drive.mount('/content/drive')\n",
        "import os\n",
        "root = '/content/drive/MyDrive/hardware_aware_optimization'\n",
        "os.makedirs(f\"{root}/notebooks\", exist_ok=True)\n",
        "os.makedirs(f\"{root}/models\", exist_ok=True)\n",
        "os.makedirs(f\"{root}/data/cifar10\", exist_ok=True)\n",
        "os.makedirs(f\"{root}/results\", exist_ok=True)\n",
        "print(\"Project folders created!\")"
      ]
    },
    {
      "cell_type": "code",
      "source": [
        "import torch\n",
        "import torch.nn as nn\n",
        "import torch.optim as optim\n",
        "from torch.optim.lr_scheduler import StepLR\n",
        "import torchvision\n",
        "import torchvision.transforms as transforms\n",
        "\n",
        "device = torch.device('cuda' if torch.cuda.is_available() else 'cpu')\n",
        "print(f\"Using device: {device}\")"
      ],
      "metadata": {
        "colab": {
          "base_uri": "https://localhost:8080/"
        },
        "id": "rYyDVvGLXa81",
        "outputId": "40ad1a37-c3ee-4222-fe9d-6bd310920302"
      },
      "execution_count": null,
      "outputs": [
        {
          "output_type": "stream",
          "name": "stdout",
          "text": [
            "Using device: cuda\n"
          ]
        }
      ]
    },
    {
      "cell_type": "code",
      "source": [
        "transform_train = transforms.Compose([\n",
        "    transforms.RandomCrop(32, padding=4),\n",
        "    transforms.RandomHorizontalFlip(),\n",
        "    transforms.ToTensor(),\n",
        "    transforms.Normalize((0.4914, 0.4822, 0.4465), (0.2023, 0.1994, 0.2010))\n",
        "])\n",
        "transform_test = transforms.Compose([\n",
        "    transforms.ToTensor(),\n",
        "    transforms.Normalize((0.4914, 0.4822, 0.4465), (0.2023, 0.1994, 0.2010))\n",
        "])"
      ],
      "metadata": {
        "id": "CYnHOE3iXgMq"
      },
      "execution_count": null,
      "outputs": []
    },
    {
      "cell_type": "code",
      "source": [
        "trainset = torchvision.datasets.CIFAR10(root=f'{root}/data/cifar10', train=True, download=True, transform=transform_train)\n",
        "testset = torchvision.datasets.CIFAR10(root=f'{root}/data/cifar10', train=False, download=True, transform=transform_test)\n",
        "\n",
        "trainloader = torch.utils.data.DataLoader(trainset, batch_size=128, shuffle=True, num_workers=2)\n",
        "testloader = torch.utils.data.DataLoader(testset, batch_size=100, shuffle=False, num_workers=2)"
      ],
      "metadata": {
        "colab": {
          "base_uri": "https://localhost:8080/"
        },
        "id": "mrIiIG5AXkQG",
        "outputId": "5771eb96-4c5a-4684-aa3c-b51d40959895"
      },
      "execution_count": null,
      "outputs": [
        {
          "output_type": "stream",
          "name": "stderr",
          "text": [
            "100%|██████████| 170M/170M [00:13<00:00, 12.9MB/s]\n"
          ]
        }
      ]
    },
    {
      "cell_type": "code",
      "source": [
        "class SimpleCNN(nn.Module):\n",
        "    def __init__(self):\n",
        "        super(SimpleCNN, self).__init__()\n",
        "        self.features = nn.Sequential(\n",
        "            nn.Conv2d(3, 32, 3, padding=1),\n",
        "            nn.BatchNorm2d(32),\n",
        "            nn.ReLU(),\n",
        "            nn.Conv2d(32, 64, 3, padding=1),\n",
        "            nn.BatchNorm2d(64),\n",
        "            nn.ReLU(),\n",
        "            nn.MaxPool2d(2, 2),\n",
        "            nn.Conv2d(64, 128, 3, padding=1),\n",
        "            nn.BatchNorm2d(128),\n",
        "            nn.ReLU(),\n",
        "            nn.MaxPool2d(2, 2)\n",
        "        )\n",
        "        self.classifier = nn.Sequential(\n",
        "            nn.Dropout(0.5),\n",
        "            nn.Linear(128*8*8, 256),\n",
        "            nn.ReLU(),\n",
        "            nn.Linear(256, 10)\n",
        "        )\n",
        "    def forward(self, x):\n",
        "        x = self.features(x)\n",
        "        x = x.view(x.size(0), -1)\n",
        "        x = self.classifier(x)\n",
        "        return x\n",
        "\n",
        "model = SimpleCNN().to(device)\n",
        "print(model)"
      ],
      "metadata": {
        "colab": {
          "base_uri": "https://localhost:8080/"
        },
        "collapsed": true,
        "id": "lofNUUzfXqsQ",
        "outputId": "af3473ce-6761-4257-999c-0218a5ae0e13"
      },
      "execution_count": null,
      "outputs": [
        {
          "output_type": "stream",
          "name": "stdout",
          "text": [
            "SimpleCNN(\n",
            "  (features): Sequential(\n",
            "    (0): Conv2d(3, 32, kernel_size=(3, 3), stride=(1, 1), padding=(1, 1))\n",
            "    (1): BatchNorm2d(32, eps=1e-05, momentum=0.1, affine=True, track_running_stats=True)\n",
            "    (2): ReLU()\n",
            "    (3): Conv2d(32, 64, kernel_size=(3, 3), stride=(1, 1), padding=(1, 1))\n",
            "    (4): BatchNorm2d(64, eps=1e-05, momentum=0.1, affine=True, track_running_stats=True)\n",
            "    (5): ReLU()\n",
            "    (6): MaxPool2d(kernel_size=2, stride=2, padding=0, dilation=1, ceil_mode=False)\n",
            "    (7): Conv2d(64, 128, kernel_size=(3, 3), stride=(1, 1), padding=(1, 1))\n",
            "    (8): BatchNorm2d(128, eps=1e-05, momentum=0.1, affine=True, track_running_stats=True)\n",
            "    (9): ReLU()\n",
            "    (10): MaxPool2d(kernel_size=2, stride=2, padding=0, dilation=1, ceil_mode=False)\n",
            "  )\n",
            "  (classifier): Sequential(\n",
            "    (0): Dropout(p=0.5, inplace=False)\n",
            "    (1): Linear(in_features=8192, out_features=256, bias=True)\n",
            "    (2): ReLU()\n",
            "    (3): Linear(in_features=256, out_features=10, bias=True)\n",
            "  )\n",
            ")\n"
          ]
        }
      ]
    },
    {
      "cell_type": "code",
      "source": [
        "criterion = nn.CrossEntropyLoss()\n",
        "optimizer = optim.Adam(model.parameters(), lr=0.001)\n",
        "scheduler = StepLR(optimizer, step_size=20, gamma=0.5)"
      ],
      "metadata": {
        "id": "euzTxEeRXvdA"
      },
      "execution_count": null,
      "outputs": []
    },
    {
      "cell_type": "code",
      "source": [
        "def train(model, trainloader, criterion, optimizer, epoch):\n",
        "    model.train()\n",
        "    running_loss = 0.0\n",
        "    for i, (inputs, labels) in enumerate(trainloader):\n",
        "        inputs, labels = inputs.to(device), labels.to(device)\n",
        "        optimizer.zero_grad()\n",
        "        outputs = model(inputs)\n",
        "        loss = criterion(outputs, labels)\n",
        "        loss.backward()\n",
        "        optimizer.step()\n",
        "        running_loss += loss.item()\n",
        "    print(f\"[Epoch {epoch}] Loss: {running_loss/len(trainloader):.4f}\")\n",
        "\n",
        "def test(model, testloader):\n",
        "    model.eval()\n",
        "    correct, total = 0, 0\n",
        "    with torch.no_grad():\n",
        "        for inputs, labels in testloader:\n",
        "            inputs, labels = inputs.to(device), labels.to(device)\n",
        "            outputs = model(inputs)\n",
        "            _, predicted = torch.max(outputs, 1)\n",
        "            total += labels.size(0)\n",
        "            correct += (predicted == labels).sum().item()\n",
        "    acc = 100 * correct / total\n",
        "    print(f\"Test Accuracy: {acc:.2f}%\")\n",
        "    return acc"
      ],
      "metadata": {
        "id": "8nCJPsyeXyA1"
      },
      "execution_count": null,
      "outputs": []
    },
    {
      "cell_type": "code",
      "source": [
        "best_acc = 0\n",
        "for epoch in range(1, 26):\n",
        "    train(model, trainloader, criterion, optimizer, epoch)\n",
        "    acc = test(model, testloader)\n",
        "    scheduler.step()\n",
        "    if acc > best_acc:\n",
        "        best_acc = acc\n",
        "        torch.save(model.state_dict(), f\"{root}/models/base_model.pt\")\n",
        "        print(\"[Saved best model]\")\n",
        "print(f\"Best test accuracy: {best_acc:.2f}%\")"
      ],
      "metadata": {
        "colab": {
          "base_uri": "https://localhost:8080/"
        },
        "id": "8RyOCwssX2At",
        "outputId": "2d2da0ab-a440-4884-892f-24f1b81cf500"
      },
      "execution_count": null,
      "outputs": [
        {
          "output_type": "stream",
          "name": "stdout",
          "text": [
            "[Epoch 1] Loss: 1.5970\n",
            "Test Accuracy: 51.30%\n",
            "[Saved best model]\n",
            "[Epoch 2] Loss: 1.1974\n",
            "Test Accuracy: 61.06%\n",
            "[Saved best model]\n",
            "[Epoch 3] Loss: 1.0596\n",
            "Test Accuracy: 65.84%\n",
            "[Saved best model]\n",
            "[Epoch 4] Loss: 0.9835\n",
            "Test Accuracy: 70.45%\n",
            "[Saved best model]\n",
            "[Epoch 5] Loss: 0.9367\n",
            "Test Accuracy: 71.55%\n",
            "[Saved best model]\n",
            "[Epoch 6] Loss: 0.8911\n",
            "Test Accuracy: 72.62%\n",
            "[Saved best model]\n",
            "[Epoch 7] Loss: 0.8570\n",
            "Test Accuracy: 74.65%\n",
            "[Saved best model]\n",
            "[Epoch 8] Loss: 0.8350\n",
            "Test Accuracy: 75.04%\n",
            "[Saved best model]\n",
            "[Epoch 9] Loss: 0.7989\n",
            "Test Accuracy: 74.66%\n",
            "[Epoch 10] Loss: 0.7882\n",
            "Test Accuracy: 74.01%\n",
            "[Epoch 11] Loss: 0.7685\n",
            "Test Accuracy: 75.07%\n",
            "[Saved best model]\n",
            "[Epoch 12] Loss: 0.7443\n",
            "Test Accuracy: 75.05%\n",
            "[Epoch 13] Loss: 0.7315\n",
            "Test Accuracy: 75.69%\n",
            "[Saved best model]\n",
            "[Epoch 14] Loss: 0.7155\n",
            "Test Accuracy: 76.89%\n",
            "[Saved best model]\n",
            "[Epoch 15] Loss: 0.7033\n",
            "Test Accuracy: 76.54%\n",
            "[Epoch 16] Loss: 0.6857\n",
            "Test Accuracy: 78.09%\n",
            "[Saved best model]\n",
            "[Epoch 17] Loss: 0.6708\n",
            "Test Accuracy: 79.54%\n",
            "[Saved best model]\n",
            "[Epoch 18] Loss: 0.6646\n",
            "Test Accuracy: 79.22%\n",
            "[Epoch 19] Loss: 0.6509\n",
            "Test Accuracy: 80.15%\n",
            "[Saved best model]\n",
            "[Epoch 20] Loss: 0.6367\n",
            "Test Accuracy: 79.36%\n",
            "[Epoch 21] Loss: 0.5982\n",
            "Test Accuracy: 81.51%\n",
            "[Saved best model]\n",
            "[Epoch 22] Loss: 0.5908\n",
            "Test Accuracy: 81.17%\n",
            "[Epoch 23] Loss: 0.5858\n",
            "Test Accuracy: 81.43%\n",
            "[Epoch 24] Loss: 0.5725\n",
            "Test Accuracy: 81.88%\n",
            "[Saved best model]\n",
            "[Epoch 25] Loss: 0.5702\n",
            "Test Accuracy: 82.21%\n",
            "[Saved best model]\n",
            "Best test accuracy: 82.21%\n"
          ]
        }
      ]
    }
  ]
}