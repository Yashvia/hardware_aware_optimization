{
  "nbformat": 4,
  "nbformat_minor": 0,
  "metadata": {
    "colab": {
      "provenance": [],
      "gpuType": "T4"
    },
    "kernelspec": {
      "name": "python3",
      "display_name": "Python 3"
    },
    "language_info": {
      "name": "python"
    },
    "accelerator": "GPU"
  },
  "cells": [
    {
      "cell_type": "markdown",
      "source": [
        "# 3️⃣ Post-Training Quantization (ONNX Runtime)\n",
        "Quantize the ONNX model to INT8 using ONNX Runtime. Saves as `model_quant.onnx`."
      ],
      "metadata": {
        "id": "Fbo0gDfue5Lj"
      }
    },
    {
      "cell_type": "code",
      "source": [
        "from google.colab import drive\n",
        "drive.mount('/content/drive')\n",
        "root = '/content/drive/MyDrive/hardware_aware_optimization'"
      ],
      "metadata": {
        "colab": {
          "base_uri": "https://localhost:8080/"
        },
        "id": "A5qa-JjFfFOI",
        "outputId": "cd76a341-d936-45d6-f391-2907f1efd709",
        "collapsed": true
      },
      "execution_count": null,
      "outputs": [
        {
          "output_type": "stream",
          "name": "stdout",
          "text": [
            "Mounted at /content/drive\n"
          ]
        }
      ]
    },
    {
      "cell_type": "code",
      "source": [
        "import torch\n",
        "import torch.nn as nn\n",
        "import torch.nn.utils.prune as prune\n",
        "import torch.optim as optim\n",
        "import torchvision\n",
        "import torchvision.transforms as transforms\n",
        "import os\n",
        "\n",
        "device = torch.device('cuda' if torch.cuda.is_available() else 'cpu')"
      ],
      "metadata": {
        "id": "N0gwoAAd6YEH"
      },
      "execution_count": null,
      "outputs": []
    },
    {
      "cell_type": "code",
      "source": [
        "class SimpleCNN(nn.Module):\n",
        "    def __init__(self):\n",
        "        super(SimpleCNN, self).__init__()\n",
        "        self.features = nn.Sequential(\n",
        "            nn.Conv2d(3, 32, 3, padding=1),\n",
        "            nn.BatchNorm2d(32),\n",
        "            nn.ReLU(),\n",
        "            nn.Conv2d(32, 64, 3, padding=1),\n",
        "            nn.BatchNorm2d(64),\n",
        "            nn.ReLU(),\n",
        "            nn.MaxPool2d(2, 2),\n",
        "            nn.Conv2d(64, 128, 3, padding=1),\n",
        "            nn.BatchNorm2d(128),\n",
        "            nn.ReLU(),\n",
        "            nn.MaxPool2d(2, 2)\n",
        "        )\n",
        "        self.classifier = nn.Sequential(\n",
        "            nn.Dropout(0.5),\n",
        "            nn.Linear(128*8*8, 256),\n",
        "            nn.ReLU(),\n",
        "            nn.Linear(256, 10)\n",
        "        )\n",
        "    def forward(self, x):\n",
        "        x = self.features(x)\n",
        "        x = x.view(x.size(0), -1)\n",
        "        x = self.classifier(x)\n",
        "        return x\n",
        "\n",
        "model = SimpleCNN().to(device)\n",
        "model.load_state_dict(torch.load(f\"{root}/models/base_model.pt\", map_location=device))\n"
      ],
      "metadata": {
        "id": "IHvZ3J01e_V-",
        "colab": {
          "base_uri": "https://localhost:8080/"
        },
        "outputId": "ade64ac3-41fb-4958-a277-287a77a720a7"
      },
      "execution_count": null,
      "outputs": [
        {
          "output_type": "execute_result",
          "data": {
            "text/plain": [
              "<All keys matched successfully>"
            ]
          },
          "metadata": {},
          "execution_count": 3
        }
      ]
    },
    {
      "cell_type": "code",
      "source": [
        "for module in model.features:\n",
        "    if isinstance(module, nn.Conv2d):\n",
        "        prune.ln_structured(module, name=\"weight\", amount=0.2, n=2, dim=0)\n",
        "for module in model.features:\n",
        "    if isinstance(module, nn.Conv2d):\n",
        "        prune.remove(module, 'weight')\n"
      ],
      "metadata": {
        "id": "Hf1hw3lkwFLx"
      },
      "execution_count": null,
      "outputs": []
    },
    {
      "cell_type": "code",
      "source": [
        "transform_train = transforms.Compose([\n",
        "    transforms.RandomCrop(32, padding=4),\n",
        "    transforms.RandomHorizontalFlip(),\n",
        "    transforms.ToTensor(),\n",
        "    transforms.Normalize((0.4914, 0.4822, 0.4465), (0.2023, 0.1994, 0.2010))\n",
        "])\n",
        "transform_test = transforms.Compose([\n",
        "    transforms.ToTensor(),\n",
        "    transforms.Normalize((0.4914, 0.4822, 0.4465), (0.2023, 0.1994, 0.2010))\n",
        "])\n",
        "trainset = torchvision.datasets.CIFAR10(root=f'{root}/data/cifar10', train=True, download=True, transform=transform_train)\n",
        "testset = torchvision.datasets.CIFAR10(root=f'{root}/data/cifar10', train=False, download=True, transform=transform_test)\n",
        "trainloader = torch.utils.data.DataLoader(trainset, batch_size=128, shuffle=True, num_workers=2)\n",
        "testloader = torch.utils.data.DataLoader(testset, batch_size=100, shuffle=False, num_workers=2)\n",
        "\n",
        "criterion = nn.CrossEntropyLoss()\n",
        "optimizer = optim.Adam(model.parameters(), lr=0.0005)\n",
        "\n",
        "def train(model, loader, criterion, optimizer):\n",
        "    model.train()\n",
        "    for inputs, labels in loader:\n",
        "        inputs, labels = inputs.to(device), labels.to(device)\n",
        "        optimizer.zero_grad()\n",
        "        outputs = model(inputs)\n",
        "        loss = criterion(outputs, labels)\n",
        "        loss.backward()\n",
        "        optimizer.step()\n",
        "\n",
        "def test(model, loader):\n",
        "    model.eval()\n",
        "    correct, total = 0, 0\n",
        "    with torch.no_grad():\n",
        "        for inputs, labels in loader:\n",
        "            inputs, labels = inputs.to(device), labels.to(device)\n",
        "            outputs = model(inputs)\n",
        "            _, predicted = torch.max(outputs, 1)\n",
        "            total += labels.size(0)\n",
        "            correct += (predicted == labels).sum().item()\n",
        "    return 100 * correct / total\n",
        "\n",
        "for epoch in range(1, 6):\n",
        "    train(model, trainloader, criterion, optimizer)\n",
        "    acc = test(model, testloader)\n",
        "    print(f\"Epoch {epoch} | Test Acc: {acc:.2f}%\")\n",
        "\n",
        "torch.save(model.state_dict(), f\"{root}/models/model_pruned.pt\")\n",
        "print(\"Pruned model saved.\")"
      ],
      "metadata": {
        "colab": {
          "base_uri": "https://localhost:8080/"
        },
        "id": "rRJ1RuhhwJBB",
        "outputId": "3962a8b3-4ea3-43bf-eccb-b71ce5542c92"
      },
      "execution_count": null,
      "outputs": [
        {
          "output_type": "stream",
          "name": "stdout",
          "text": [
            "Epoch 1 | Test Acc: 80.60%\n",
            "Epoch 2 | Test Acc: 80.89%\n",
            "Epoch 3 | Test Acc: 81.05%\n",
            "Epoch 4 | Test Acc: 81.37%\n",
            "Epoch 5 | Test Acc: 81.63%\n",
            "Pruned model saved.\n"
          ]
        }
      ]
    },
    {
      "cell_type": "code",
      "source": [
        "!pip3 install onnx\n",
        "import torch.onnx\n",
        "\n",
        "model.eval()\n",
        "dummy_input = torch.randn(1, 3, 32, 32, device=device)\n",
        "onnx_pruned_path = f\"{root}/models/model_pruned.onnx\"\n",
        "torch.onnx.export(\n",
        "    model,\n",
        "    dummy_input,\n",
        "    onnx_pruned_path,\n",
        "    input_names=['input'],\n",
        "    output_names=['output'],\n",
        "    opset_version=13,\n",
        "    dynamic_axes={'input': {0: 'batch_size'}, 'output': {0: 'batch_size'}}\n",
        ")\n",
        "print(f\"Exported pruned model to {onnx_pruned_path}\")"
      ],
      "metadata": {
        "colab": {
          "base_uri": "https://localhost:8080/"
        },
        "id": "kwJbYno-Fd2k",
        "outputId": "6644887c-3ff2-4eea-e27c-a82a003028ab"
      },
      "execution_count": null,
      "outputs": [
        {
          "output_type": "stream",
          "name": "stdout",
          "text": [
            "Collecting onnx\n",
            "  Downloading onnx-1.18.0-cp311-cp311-manylinux_2_17_x86_64.manylinux2014_x86_64.whl.metadata (6.9 kB)\n",
            "Requirement already satisfied: numpy>=1.22 in /usr/local/lib/python3.11/dist-packages (from onnx) (2.0.2)\n",
            "Requirement already satisfied: protobuf>=4.25.1 in /usr/local/lib/python3.11/dist-packages (from onnx) (5.29.5)\n",
            "Requirement already satisfied: typing_extensions>=4.7.1 in /usr/local/lib/python3.11/dist-packages (from onnx) (4.14.1)\n",
            "Downloading onnx-1.18.0-cp311-cp311-manylinux_2_17_x86_64.manylinux2014_x86_64.whl (17.6 MB)\n",
            "\u001b[2K   \u001b[90m━━━━━━━━━━━━━━━━━━━━━━━━━━━━━━━━━━━━━━━━\u001b[0m \u001b[32m17.6/17.6 MB\u001b[0m \u001b[31m118.4 MB/s\u001b[0m eta \u001b[36m0:00:00\u001b[0m\n",
            "\u001b[?25hInstalling collected packages: onnx\n",
            "Successfully installed onnx-1.18.0\n",
            "Exported pruned model to /content/drive/MyDrive/hardware_aware_optimization/models/model_pruned.onnx\n"
          ]
        }
      ]
    },
    {
      "cell_type": "code",
      "source": [
        "size_pruned_onnx = os.path.getsize(onnx_pruned_path) / 1024 / 1024\n",
        "size_fp32_onnx = os.path.getsize(f\"{root}/models/model.onnx\") / 1024 / 1024\n",
        "print(f\"ONNX FP32: {size_fp32_onnx:.2f} MB | Pruned ONNX: {size_pruned_onnx:.2f} MB\")"
      ],
      "metadata": {
        "colab": {
          "base_uri": "https://localhost:8080/"
        },
        "id": "XVTNJUjQFijK",
        "outputId": "fe1e102e-16eb-4c3f-cd83-6d7026dc643b"
      },
      "execution_count": null,
      "outputs": [
        {
          "output_type": "stream",
          "name": "stdout",
          "text": [
            "ONNX FP32: 8.37 MB | Pruned ONNX: 8.37 MB\n"
          ]
        }
      ]
    }
  ]
}